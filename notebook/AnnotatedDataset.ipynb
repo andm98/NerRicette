{
  "nbformat": 4,
  "nbformat_minor": 0,
  "metadata": {
    "colab": {
      "provenance": []
    },
    "kernelspec": {
      "name": "python3",
      "display_name": "Python 3"
    },
    "language_info": {
      "name": "python"
    }
  },
  "cells": [
    {
      "cell_type": "markdown",
      "source": [
        "Creazione del dataset annotato: Lettura del file annotato e creazione di un file di dati con ogni linea che può essere (1) ingrediente /t tag o (2) linea vuota per indicare la fine della frase"
      ],
      "metadata": {
        "id": "0WzmXXd-ssI3"
      }
    },
    {
      "cell_type": "code",
      "execution_count": null,
      "metadata": {
        "id": "qQ8B0T8gsciM"
      },
      "outputs": [],
      "source": [
        "import json \n",
        "import pandas as pd \n",
        "from pandas.io.json import json_normalize \n",
        "from dataclasses import make_dataclass\n",
        "Annotation = make_dataclass(\"Annotation\", [(\"text\", str), (\"label\", int)])\n",
        "\n",
        "labAnn2lab =   {'B-ING': 0, 'I-ING': 1, \n",
        " 'B-QUANTITY': 2, 'I-QUANTITY': 3, \n",
        " 'B-UNIT': 4, 'I-UNIT': 5, \n",
        " 'B-STATE': 6, 'I-STATE': 7,  \n",
        " 'B-PART': 8,'I-PART': 9, \n",
        " 'B-EQUIPMENT': 10,  'I-EQUIPMENT':11,\n",
        "  'B-ALT': 12, 'I-ALT': 13,\n",
        "   'O': 14\n",
        " }\n",
        "\n",
        "df = pd.DataFrame()\n",
        "\n",
        "with open(PATH + 'mysia_annotated.jsonl') as f:\n",
        "  lines = f.readlines()\n",
        "  for line in lines:\n",
        "    annotation_json = json.loads(line)\n",
        "    annotations = annotation_json[\"entities\"]\n",
        "    text = annotation_json[\"text\"]\n",
        "    annotations.sort(key=lambda x: x[\"start_offset\"])\n",
        "    for annotation in annotations:\n",
        "      df = df.append([Annotation( str(text[annotation[\"start_offset\"] : annotation[\"end_offset\"]]).lower(),\n",
        "                      labAnn2lab[annotation[\"label\"]])],\n",
        "                      ignore_index=True)\n",
        "    df = df.append([Annotation(None, None)], ignore_index=True)\n",
        "\n",
        "df.to_csv(PATH + 'mysia_dataset.csv',sep='\\t', index=False, header= False)"
      ]
    },
    {
      "cell_type": "markdown",
      "source": [
        "Creazione di un unico file"
      ],
      "metadata": {
        "id": "1vzdaO9b5kC3"
      }
    },
    {
      "cell_type": "code",
      "source": [
        "with open(PATH + 'giallo_dataset.csv') as f:\n",
        "  ing_giallo = f.read()\n",
        "with open(PATH + 'mysia_dataset.csv') as f:\n",
        "  ing_mysia = f.read()\n",
        "with open(PATH + 'recipe_dataset.csv', 'w') as f:\n",
        "  f.writelines(ing_giallo)\n",
        "  f.writelines(ing_mysia)"
      ],
      "metadata": {
        "id": "6Edo-Dd4smJA"
      },
      "execution_count": null,
      "outputs": []
    }
  ]
}